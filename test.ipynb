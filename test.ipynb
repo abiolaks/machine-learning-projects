import pandas as pd
import numpy as np
import matplotlib.pyplot as plt
import seaborn as sns 

df = pd.DataFrame({'x':[1,2,3,4],'y':[5,6,7,8])
print(df.head())
print(np.sin(np.PI)
